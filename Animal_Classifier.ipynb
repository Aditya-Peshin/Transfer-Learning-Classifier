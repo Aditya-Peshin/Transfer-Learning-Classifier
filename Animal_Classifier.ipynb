{
  "nbformat": 4,
  "nbformat_minor": 0,
  "metadata": {
    "colab": {
      "name": "Animal_Classifier.ipynb",
      "provenance": [],
      "collapsed_sections": []
    },
    "kernelspec": {
      "name": "python3",
      "display_name": "Python 3"
    },
    "widgets": {
      "application/vnd.jupyter.widget-state+json": {
        "df0cb797f99241a096c8368a786575d4": {
          "model_module": "@jupyter-widgets/controls",
          "model_name": "VBoxModel",
          "state": {
            "_view_name": "VBoxView",
            "_dom_classes": [],
            "_model_name": "VBoxModel",
            "_view_module": "@jupyter-widgets/controls",
            "_model_module_version": "1.5.0",
            "_view_count": null,
            "_view_module_version": "1.5.0",
            "box_style": "",
            "layout": "IPY_MODEL_9d3b0608fc404ca9b2909b142557bfc4",
            "_model_module": "@jupyter-widgets/controls",
            "children": [
              "IPY_MODEL_7dae8b27bfa8452db33222d48e53b6f0",
              "IPY_MODEL_507e7a1fa3714164a228c781a105cd33",
              "IPY_MODEL_a0fd01984ffd4acda104be2bb3386178",
              "IPY_MODEL_1e2099c9f2214d03927b4ea7cd024aac"
            ]
          }
        },
        "9d3b0608fc404ca9b2909b142557bfc4": {
          "model_module": "@jupyter-widgets/base",
          "model_name": "LayoutModel",
          "state": {
            "_view_name": "LayoutView",
            "grid_template_rows": null,
            "right": null,
            "justify_content": null,
            "_view_module": "@jupyter-widgets/base",
            "overflow": null,
            "_model_module_version": "1.2.0",
            "_view_count": null,
            "flex_flow": null,
            "width": null,
            "min_width": null,
            "border": null,
            "align_items": null,
            "bottom": null,
            "_model_module": "@jupyter-widgets/base",
            "top": null,
            "grid_column": null,
            "overflow_y": null,
            "overflow_x": null,
            "grid_auto_flow": null,
            "grid_area": null,
            "grid_template_columns": null,
            "flex": null,
            "_model_name": "LayoutModel",
            "justify_items": null,
            "grid_row": null,
            "max_height": null,
            "align_content": null,
            "visibility": null,
            "align_self": null,
            "height": null,
            "min_height": null,
            "padding": null,
            "grid_auto_rows": null,
            "grid_gap": null,
            "max_width": null,
            "order": null,
            "_view_module_version": "1.2.0",
            "grid_template_areas": null,
            "object_position": null,
            "object_fit": null,
            "grid_auto_columns": null,
            "margin": null,
            "display": null,
            "left": null
          }
        },
        "7dae8b27bfa8452db33222d48e53b6f0": {
          "model_module": "@jupyter-widgets/controls",
          "model_name": "LabelModel",
          "state": {
            "_view_name": "LabelView",
            "style": "IPY_MODEL_a497052a39d848249c8bb3b46e0397ca",
            "_dom_classes": [],
            "description": "",
            "_model_name": "LabelModel",
            "placeholder": "​",
            "_view_module": "@jupyter-widgets/controls",
            "_model_module_version": "1.5.0",
            "value": "Select your bear!",
            "_view_count": null,
            "_view_module_version": "1.5.0",
            "description_tooltip": null,
            "_model_module": "@jupyter-widgets/controls",
            "layout": "IPY_MODEL_d31006d6d7ed45f9ae987f81e0af6c1e"
          }
        },
        "507e7a1fa3714164a228c781a105cd33": {
          "model_module": "@jupyter-widgets/controls",
          "model_name": "FileUploadModel",
          "state": {
            "_view_name": "FileUploadView",
            "_counter": 3,
            "style": "IPY_MODEL_072801be461f49cfaf87156a23803f6b",
            "_dom_classes": [],
            "description": "Upload",
            "multiple": false,
            "_model_name": "FileUploadModel",
            "data": [
              null
            ],
            "button_style": "",
            "_view_module": "@jupyter-widgets/controls",
            "_model_module_version": "1.5.0",
            "accept": "",
            "_view_count": null,
            "disabled": false,
            "_view_module_version": "1.5.0",
            "error": "",
            "description_tooltip": null,
            "metadata": [
              {
                "name": "OIP.jpg",
                "type": "image/jpeg",
                "size": 21629,
                "lastModified": 1614618053372
              }
            ],
            "_model_module": "@jupyter-widgets/controls",
            "layout": "IPY_MODEL_6344574d21164c199d15693ac2960a63",
            "icon": "upload"
          }
        },
        "a0fd01984ffd4acda104be2bb3386178": {
          "model_module": "@jupyter-widgets/output",
          "model_name": "OutputModel",
          "state": {
            "_view_name": "OutputView",
            "msg_id": "",
            "_dom_classes": [],
            "_model_name": "OutputModel",
            "outputs": [
              {
                "output_type": "display_data",
                "metadata": {
                  "tags": []
                },
                "image/png": "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\n",
                "text/plain": "<PIL.Image.Image image mode=RGB size=128x80 at 0x7EFC24858810>"
              }
            ],
            "_view_module": "@jupyter-widgets/output",
            "_model_module_version": "1.0.0",
            "_view_count": null,
            "_view_module_version": "1.0.0",
            "layout": "IPY_MODEL_143df789c5a74a32b435e38808a34aa0",
            "_model_module": "@jupyter-widgets/output"
          }
        },
        "1e2099c9f2214d03927b4ea7cd024aac": {
          "model_module": "@jupyter-widgets/controls",
          "model_name": "LabelModel",
          "state": {
            "_view_name": "LabelView",
            "style": "IPY_MODEL_8c3d327caa0a4dfeb580fb200d240970",
            "_dom_classes": [],
            "description": "",
            "_model_name": "LabelModel",
            "placeholder": "​",
            "_view_module": "@jupyter-widgets/controls",
            "_model_module_version": "1.5.0",
            "value": "Prediction: cat; Probability: 1.0000",
            "_view_count": null,
            "_view_module_version": "1.5.0",
            "description_tooltip": null,
            "_model_module": "@jupyter-widgets/controls",
            "layout": "IPY_MODEL_3b711cb87ddf4dc7904608e42cd3fc3f"
          }
        },
        "a497052a39d848249c8bb3b46e0397ca": {
          "model_module": "@jupyter-widgets/controls",
          "model_name": "DescriptionStyleModel",
          "state": {
            "_view_name": "StyleView",
            "_model_name": "DescriptionStyleModel",
            "description_width": "",
            "_view_module": "@jupyter-widgets/base",
            "_model_module_version": "1.5.0",
            "_view_count": null,
            "_view_module_version": "1.2.0",
            "_model_module": "@jupyter-widgets/controls"
          }
        },
        "d31006d6d7ed45f9ae987f81e0af6c1e": {
          "model_module": "@jupyter-widgets/base",
          "model_name": "LayoutModel",
          "state": {
            "_view_name": "LayoutView",
            "grid_template_rows": null,
            "right": null,
            "justify_content": null,
            "_view_module": "@jupyter-widgets/base",
            "overflow": null,
            "_model_module_version": "1.2.0",
            "_view_count": null,
            "flex_flow": null,
            "width": null,
            "min_width": null,
            "border": null,
            "align_items": null,
            "bottom": null,
            "_model_module": "@jupyter-widgets/base",
            "top": null,
            "grid_column": null,
            "overflow_y": null,
            "overflow_x": null,
            "grid_auto_flow": null,
            "grid_area": null,
            "grid_template_columns": null,
            "flex": null,
            "_model_name": "LayoutModel",
            "justify_items": null,
            "grid_row": null,
            "max_height": null,
            "align_content": null,
            "visibility": null,
            "align_self": null,
            "height": null,
            "min_height": null,
            "padding": null,
            "grid_auto_rows": null,
            "grid_gap": null,
            "max_width": null,
            "order": null,
            "_view_module_version": "1.2.0",
            "grid_template_areas": null,
            "object_position": null,
            "object_fit": null,
            "grid_auto_columns": null,
            "margin": null,
            "display": null,
            "left": null
          }
        },
        "072801be461f49cfaf87156a23803f6b": {
          "model_module": "@jupyter-widgets/controls",
          "model_name": "ButtonStyleModel",
          "state": {
            "_view_name": "StyleView",
            "_model_name": "ButtonStyleModel",
            "_view_module": "@jupyter-widgets/base",
            "_model_module_version": "1.5.0",
            "_view_count": null,
            "button_color": null,
            "font_weight": "",
            "_view_module_version": "1.2.0",
            "_model_module": "@jupyter-widgets/controls"
          }
        },
        "6344574d21164c199d15693ac2960a63": {
          "model_module": "@jupyter-widgets/base",
          "model_name": "LayoutModel",
          "state": {
            "_view_name": "LayoutView",
            "grid_template_rows": null,
            "right": null,
            "justify_content": null,
            "_view_module": "@jupyter-widgets/base",
            "overflow": null,
            "_model_module_version": "1.2.0",
            "_view_count": null,
            "flex_flow": null,
            "width": null,
            "min_width": null,
            "border": null,
            "align_items": null,
            "bottom": null,
            "_model_module": "@jupyter-widgets/base",
            "top": null,
            "grid_column": null,
            "overflow_y": null,
            "overflow_x": null,
            "grid_auto_flow": null,
            "grid_area": null,
            "grid_template_columns": null,
            "flex": null,
            "_model_name": "LayoutModel",
            "justify_items": null,
            "grid_row": null,
            "max_height": null,
            "align_content": null,
            "visibility": null,
            "align_self": null,
            "height": null,
            "min_height": null,
            "padding": null,
            "grid_auto_rows": null,
            "grid_gap": null,
            "max_width": null,
            "order": null,
            "_view_module_version": "1.2.0",
            "grid_template_areas": null,
            "object_position": null,
            "object_fit": null,
            "grid_auto_columns": null,
            "margin": null,
            "display": null,
            "left": null
          }
        },
        "8c3d327caa0a4dfeb580fb200d240970": {
          "model_module": "@jupyter-widgets/controls",
          "model_name": "DescriptionStyleModel",
          "state": {
            "_view_name": "StyleView",
            "_model_name": "DescriptionStyleModel",
            "description_width": "",
            "_view_module": "@jupyter-widgets/base",
            "_model_module_version": "1.5.0",
            "_view_count": null,
            "_view_module_version": "1.2.0",
            "_model_module": "@jupyter-widgets/controls"
          }
        },
        "3b711cb87ddf4dc7904608e42cd3fc3f": {
          "model_module": "@jupyter-widgets/base",
          "model_name": "LayoutModel",
          "state": {
            "_view_name": "LayoutView",
            "grid_template_rows": null,
            "right": null,
            "justify_content": null,
            "_view_module": "@jupyter-widgets/base",
            "overflow": null,
            "_model_module_version": "1.2.0",
            "_view_count": null,
            "flex_flow": null,
            "width": null,
            "min_width": null,
            "border": null,
            "align_items": null,
            "bottom": null,
            "_model_module": "@jupyter-widgets/base",
            "top": null,
            "grid_column": null,
            "overflow_y": null,
            "overflow_x": null,
            "grid_auto_flow": null,
            "grid_area": null,
            "grid_template_columns": null,
            "flex": null,
            "_model_name": "LayoutModel",
            "justify_items": null,
            "grid_row": null,
            "max_height": null,
            "align_content": null,
            "visibility": null,
            "align_self": null,
            "height": null,
            "min_height": null,
            "padding": null,
            "grid_auto_rows": null,
            "grid_gap": null,
            "max_width": null,
            "order": null,
            "_view_module_version": "1.2.0",
            "grid_template_areas": null,
            "object_position": null,
            "object_fit": null,
            "grid_auto_columns": null,
            "margin": null,
            "display": null,
            "left": null
          }
        },
        "143df789c5a74a32b435e38808a34aa0": {
          "model_module": "@jupyter-widgets/base",
          "model_name": "LayoutModel",
          "state": {
            "_view_name": "LayoutView",
            "grid_template_rows": null,
            "right": null,
            "justify_content": null,
            "_view_module": "@jupyter-widgets/base",
            "overflow": null,
            "_model_module_version": "1.2.0",
            "_view_count": null,
            "flex_flow": null,
            "width": null,
            "min_width": null,
            "border": null,
            "align_items": null,
            "bottom": null,
            "_model_module": "@jupyter-widgets/base",
            "top": null,
            "grid_column": null,
            "overflow_y": null,
            "overflow_x": null,
            "grid_auto_flow": null,
            "grid_area": null,
            "grid_template_columns": null,
            "flex": null,
            "_model_name": "LayoutModel",
            "justify_items": null,
            "grid_row": null,
            "max_height": null,
            "align_content": null,
            "visibility": null,
            "align_self": null,
            "height": null,
            "min_height": null,
            "padding": null,
            "grid_auto_rows": null,
            "grid_gap": null,
            "max_width": null,
            "order": null,
            "_view_module_version": "1.2.0",
            "grid_template_areas": null,
            "object_position": null,
            "object_fit": null,
            "grid_auto_columns": null,
            "margin": null,
            "display": null,
            "left": null
          }
        }
      }
    }
  },
  "cells": [
    {
      "cell_type": "code",
      "metadata": {
        "colab": {
          "base_uri": "https://localhost:8080/"
        },
        "id": "jjSffLRxpTrm",
        "outputId": "5a66184b-acc2-4106-ea46-caa5416f0ac5"
      },
      "source": [
        "# #hide\r\n",
        "# !pip install -Uqq fastbook\r\n",
        "# import fastbook\r\n",
        "# fastbook.setup_book()"
      ],
      "execution_count": 1,
      "outputs": [
        {
          "output_type": "stream",
          "text": [
            "\u001b[K     |████████████████████████████████| 727kB 12.1MB/s \n",
            "\u001b[K     |████████████████████████████████| 51kB 3.2MB/s \n",
            "\u001b[K     |████████████████████████████████| 194kB 17.9MB/s \n",
            "\u001b[K     |████████████████████████████████| 1.2MB 39.1MB/s \n",
            "\u001b[K     |████████████████████████████████| 51kB 3.7MB/s \n",
            "\u001b[K     |████████████████████████████████| 61kB 4.6MB/s \n",
            "\u001b[?25hMounted at /content/gdrive\n"
          ],
          "name": "stdout"
        }
      ]
    },
    {
      "cell_type": "markdown",
      "metadata": {
        "id": "zOS2o11f4sMe"
      },
      "source": [
        "# Welcome to the Animal Classifier!\r\n",
        "\r\n",
        "The purpose of this exercise is to show how simple it is to create a model using state of the art transfer learning and deep learning to create models for any business application.\r\n",
        "\r\n",
        "In the case of our interview, we have chosen to classify *'egret', 'dinosaur'*\r\n",
        "\r\n",
        "Please note that the model will **NOT** make sensible predictions for other types of animals!\r\n",
        "\r\n",
        "With the help of virtual hosting services, we can deploy a model that can be run on your browser, with widgets and an interactive experience!\r\n",
        "\r\n",
        "Feel free to upload images of any of the categories listed above, and let's see if the model can predict the label correctly!"
      ]
    },
    {
      "cell_type": "code",
      "metadata": {
        "id": "O4qyEzzDs97-"
      },
      "source": [
        "from fastai.vision.all import *\r\n",
        "from fastai.vision.widgets import *"
      ],
      "execution_count": 13,
      "outputs": []
    },
    {
      "cell_type": "code",
      "metadata": {
        "id": "ERfrWEnPs-PL"
      },
      "source": [
        "path = Path()\r\n",
        "learn_inf = load_learner(path/'export.pkl', cpu = True)\r\n",
        "btn_upload = widgets.FileUpload()\r\n",
        "out_pl = widgets.Output()\r\n",
        "lbl_pred = widgets.Label()"
      ],
      "execution_count": 14,
      "outputs": []
    },
    {
      "cell_type": "code",
      "metadata": {
        "id": "ulIEPOAts-U5"
      },
      "source": [
        "def on_click(change):\r\n",
        "    img = PILImage.create(btn_upload.data[-1])\r\n",
        "    out_pl.clear_output()\r\n",
        "    with out_pl: display(img.to_thumb(128,128))\r\n",
        "    pred,pred_idx,probs = learn_inf.predict(img)\r\n",
        "    lbl_pred.value = f'Prediction: {pred}; Probability: {probs[pred_idx]:.04f}'"
      ],
      "execution_count": 15,
      "outputs": []
    },
    {
      "cell_type": "code",
      "metadata": {
        "id": "tVRYCAgJs-YM"
      },
      "source": [
        "btn_upload.observe(on_click, names = ['data'])"
      ],
      "execution_count": 16,
      "outputs": []
    },
    {
      "cell_type": "code",
      "metadata": {
        "colab": {
          "base_uri": "https://localhost:8080/",
          "height": 193,
          "referenced_widgets": [
            "df0cb797f99241a096c8368a786575d4",
            "9d3b0608fc404ca9b2909b142557bfc4",
            "7dae8b27bfa8452db33222d48e53b6f0",
            "507e7a1fa3714164a228c781a105cd33",
            "a0fd01984ffd4acda104be2bb3386178",
            "1e2099c9f2214d03927b4ea7cd024aac",
            "a497052a39d848249c8bb3b46e0397ca",
            "d31006d6d7ed45f9ae987f81e0af6c1e",
            "072801be461f49cfaf87156a23803f6b",
            "6344574d21164c199d15693ac2960a63",
            "8c3d327caa0a4dfeb580fb200d240970",
            "3b711cb87ddf4dc7904608e42cd3fc3f",
            "143df789c5a74a32b435e38808a34aa0"
          ]
        },
        "id": "Icqm-sVMs-bZ",
        "outputId": "15fd68c0-63ce-4c67-dc56-1a10f7288869"
      },
      "source": [
        "display(VBox([widgets.Label('Select your image!'), btn_upload, out_pl, lbl_pred]))"
      ],
      "execution_count": 17,
      "outputs": [
        {
          "output_type": "display_data",
          "data": {
            "application/vnd.jupyter.widget-view+json": {
              "model_id": "df0cb797f99241a096c8368a786575d4",
              "version_minor": 0,
              "version_major": 2
            },
            "text/plain": [
              "VBox(children=(Label(value='Select your bear!'), FileUpload(value={}, description='Upload'), Output(), Label(v…"
            ]
          },
          "metadata": {
            "tags": []
          }
        },
        {
          "output_type": "display_data",
          "data": {
            "text/html": [
              ""
            ],
            "text/plain": [
              "<IPython.core.display.HTML object>"
            ]
          },
          "metadata": {
            "tags": []
          }
        },
        {
          "output_type": "display_data",
          "data": {
            "text/html": [
              ""
            ],
            "text/plain": [
              "<IPython.core.display.HTML object>"
            ]
          },
          "metadata": {
            "tags": []
          }
        },
        {
          "output_type": "display_data",
          "data": {
            "text/html": [
              ""
            ],
            "text/plain": [
              "<IPython.core.display.HTML object>"
            ]
          },
          "metadata": {
            "tags": []
          }
        }
      ]
    },
    {
      "cell_type": "code",
      "metadata": {
        "id": "xTRLmdyM6V6Q"
      },
      "source": [
        ""
      ],
      "execution_count": null,
      "outputs": []
    }
  ]
}