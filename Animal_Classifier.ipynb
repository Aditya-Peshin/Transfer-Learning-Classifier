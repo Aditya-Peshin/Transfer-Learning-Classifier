{
  "nbformat": 4,
  "nbformat_minor": 0,
  "metadata": {
    "colab": {
      "name": "Untitled1.ipynb",
      "provenance": []
    },
    "kernelspec": {
      "name": "python3",
      "display_name": "Python 3"
    },
    "widgets": {
      "application/vnd.jupyter.widget-state+json": {
        "2c3b0f13f748413dab6591031c3f727a": {
          "model_module": "@jupyter-widgets/controls",
          "model_name": "VBoxModel",
          "state": {
            "_view_name": "VBoxView",
            "_dom_classes": [],
            "_model_name": "VBoxModel",
            "_view_module": "@jupyter-widgets/controls",
            "_model_module_version": "1.5.0",
            "_view_count": null,
            "_view_module_version": "1.5.0",
            "box_style": "",
            "layout": "IPY_MODEL_66bd86ec905f40eeb83cf0a2bfb9313c",
            "_model_module": "@jupyter-widgets/controls",
            "children": [
              "IPY_MODEL_b6ad9cc3ffeb49d3862cd48bd10d8c52",
              "IPY_MODEL_df95c286eccb418798057206dd26e781",
              "IPY_MODEL_b41108dac2f24de394e913cf997f0b46",
              "IPY_MODEL_d7fc5fb7b76d407bb455b790c14ae027"
            ]
          }
        },
        "66bd86ec905f40eeb83cf0a2bfb9313c": {
          "model_module": "@jupyter-widgets/base",
          "model_name": "LayoutModel",
          "state": {
            "_view_name": "LayoutView",
            "grid_template_rows": null,
            "right": null,
            "justify_content": null,
            "_view_module": "@jupyter-widgets/base",
            "overflow": null,
            "_model_module_version": "1.2.0",
            "_view_count": null,
            "flex_flow": null,
            "width": null,
            "min_width": null,
            "border": null,
            "align_items": null,
            "bottom": null,
            "_model_module": "@jupyter-widgets/base",
            "top": null,
            "grid_column": null,
            "overflow_y": null,
            "overflow_x": null,
            "grid_auto_flow": null,
            "grid_area": null,
            "grid_template_columns": null,
            "flex": null,
            "_model_name": "LayoutModel",
            "justify_items": null,
            "grid_row": null,
            "max_height": null,
            "align_content": null,
            "visibility": null,
            "align_self": null,
            "height": null,
            "min_height": null,
            "padding": null,
            "grid_auto_rows": null,
            "grid_gap": null,
            "max_width": null,
            "order": null,
            "_view_module_version": "1.2.0",
            "grid_template_areas": null,
            "object_position": null,
            "object_fit": null,
            "grid_auto_columns": null,
            "margin": null,
            "display": null,
            "left": null
          }
        },
        "b6ad9cc3ffeb49d3862cd48bd10d8c52": {
          "model_module": "@jupyter-widgets/controls",
          "model_name": "LabelModel",
          "state": {
            "_view_name": "LabelView",
            "style": "IPY_MODEL_4b7bab21257e4c22b8d0fe5ee9209c0a",
            "_dom_classes": [],
            "description": "",
            "_model_name": "LabelModel",
            "placeholder": "​",
            "_view_module": "@jupyter-widgets/controls",
            "_model_module_version": "1.5.0",
            "value": "Select your bear!",
            "_view_count": null,
            "_view_module_version": "1.5.0",
            "description_tooltip": null,
            "_model_module": "@jupyter-widgets/controls",
            "layout": "IPY_MODEL_05bc28b1cb97474bb64f579f39a46834"
          }
        },
        "df95c286eccb418798057206dd26e781": {
          "model_module": "@jupyter-widgets/controls",
          "model_name": "FileUploadModel",
          "state": {
            "_view_name": "FileUploadView",
            "_counter": 4,
            "style": "IPY_MODEL_1de979bdc1274de0b2e88cab0f502401",
            "_dom_classes": [],
            "description": "Upload",
            "multiple": false,
            "_model_name": "FileUploadModel",
            "data": [
              null
            ],
            "button_style": "",
            "_view_module": "@jupyter-widgets/controls",
            "_model_module_version": "1.5.0",
            "accept": "",
            "_view_count": null,
            "disabled": false,
            "_view_module_version": "1.5.0",
            "error": "",
            "description_tooltip": null,
            "metadata": [
              {
                "name": "OIP (1).jpg",
                "type": "image/jpeg",
                "size": 9212,
                "lastModified": 1614618284584
              }
            ],
            "_model_module": "@jupyter-widgets/controls",
            "layout": "IPY_MODEL_c64112c0cc474b15b2c61efc8b9c019f",
            "icon": "upload"
          }
        },
        "b41108dac2f24de394e913cf997f0b46": {
          "model_module": "@jupyter-widgets/output",
          "model_name": "OutputModel",
          "state": {
            "_view_name": "OutputView",
            "msg_id": "",
            "_dom_classes": [],
            "_model_name": "OutputModel",
            "outputs": [
              {
                "output_type": "display_data",
                "metadata": {
                  "tags": []
                },
                "image/png": "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\n",
                "text/plain": "<PIL.Image.Image image mode=RGB size=128x53 at 0x7EFC2516F050>"
              }
            ],
            "_view_module": "@jupyter-widgets/output",
            "_model_module_version": "1.0.0",
            "_view_count": null,
            "_view_module_version": "1.0.0",
            "layout": "IPY_MODEL_f179c1e64dd44ccbb7540e82fcc013a6",
            "_model_module": "@jupyter-widgets/output"
          }
        },
        "d7fc5fb7b76d407bb455b790c14ae027": {
          "model_module": "@jupyter-widgets/controls",
          "model_name": "LabelModel",
          "state": {
            "_view_name": "LabelView",
            "style": "IPY_MODEL_82693399604346cfacb71994a33e13d2",
            "_dom_classes": [],
            "description": "",
            "_model_name": "LabelModel",
            "placeholder": "​",
            "_view_module": "@jupyter-widgets/controls",
            "_model_module_version": "1.5.0",
            "value": "Prediction: monkey; Probability: 0.7524",
            "_view_count": null,
            "_view_module_version": "1.5.0",
            "description_tooltip": null,
            "_model_module": "@jupyter-widgets/controls",
            "layout": "IPY_MODEL_5e7590324617471eb6788fa5ad5283e1"
          }
        },
        "4b7bab21257e4c22b8d0fe5ee9209c0a": {
          "model_module": "@jupyter-widgets/controls",
          "model_name": "DescriptionStyleModel",
          "state": {
            "_view_name": "StyleView",
            "_model_name": "DescriptionStyleModel",
            "description_width": "",
            "_view_module": "@jupyter-widgets/base",
            "_model_module_version": "1.5.0",
            "_view_count": null,
            "_view_module_version": "1.2.0",
            "_model_module": "@jupyter-widgets/controls"
          }
        },
        "05bc28b1cb97474bb64f579f39a46834": {
          "model_module": "@jupyter-widgets/base",
          "model_name": "LayoutModel",
          "state": {
            "_view_name": "LayoutView",
            "grid_template_rows": null,
            "right": null,
            "justify_content": null,
            "_view_module": "@jupyter-widgets/base",
            "overflow": null,
            "_model_module_version": "1.2.0",
            "_view_count": null,
            "flex_flow": null,
            "width": null,
            "min_width": null,
            "border": null,
            "align_items": null,
            "bottom": null,
            "_model_module": "@jupyter-widgets/base",
            "top": null,
            "grid_column": null,
            "overflow_y": null,
            "overflow_x": null,
            "grid_auto_flow": null,
            "grid_area": null,
            "grid_template_columns": null,
            "flex": null,
            "_model_name": "LayoutModel",
            "justify_items": null,
            "grid_row": null,
            "max_height": null,
            "align_content": null,
            "visibility": null,
            "align_self": null,
            "height": null,
            "min_height": null,
            "padding": null,
            "grid_auto_rows": null,
            "grid_gap": null,
            "max_width": null,
            "order": null,
            "_view_module_version": "1.2.0",
            "grid_template_areas": null,
            "object_position": null,
            "object_fit": null,
            "grid_auto_columns": null,
            "margin": null,
            "display": null,
            "left": null
          }
        },
        "1de979bdc1274de0b2e88cab0f502401": {
          "model_module": "@jupyter-widgets/controls",
          "model_name": "ButtonStyleModel",
          "state": {
            "_view_name": "StyleView",
            "_model_name": "ButtonStyleModel",
            "_view_module": "@jupyter-widgets/base",
            "_model_module_version": "1.5.0",
            "_view_count": null,
            "button_color": null,
            "font_weight": "",
            "_view_module_version": "1.2.0",
            "_model_module": "@jupyter-widgets/controls"
          }
        },
        "c64112c0cc474b15b2c61efc8b9c019f": {
          "model_module": "@jupyter-widgets/base",
          "model_name": "LayoutModel",
          "state": {
            "_view_name": "LayoutView",
            "grid_template_rows": null,
            "right": null,
            "justify_content": null,
            "_view_module": "@jupyter-widgets/base",
            "overflow": null,
            "_model_module_version": "1.2.0",
            "_view_count": null,
            "flex_flow": null,
            "width": null,
            "min_width": null,
            "border": null,
            "align_items": null,
            "bottom": null,
            "_model_module": "@jupyter-widgets/base",
            "top": null,
            "grid_column": null,
            "overflow_y": null,
            "overflow_x": null,
            "grid_auto_flow": null,
            "grid_area": null,
            "grid_template_columns": null,
            "flex": null,
            "_model_name": "LayoutModel",
            "justify_items": null,
            "grid_row": null,
            "max_height": null,
            "align_content": null,
            "visibility": null,
            "align_self": null,
            "height": null,
            "min_height": null,
            "padding": null,
            "grid_auto_rows": null,
            "grid_gap": null,
            "max_width": null,
            "order": null,
            "_view_module_version": "1.2.0",
            "grid_template_areas": null,
            "object_position": null,
            "object_fit": null,
            "grid_auto_columns": null,
            "margin": null,
            "display": null,
            "left": null
          }
        },
        "82693399604346cfacb71994a33e13d2": {
          "model_module": "@jupyter-widgets/controls",
          "model_name": "DescriptionStyleModel",
          "state": {
            "_view_name": "StyleView",
            "_model_name": "DescriptionStyleModel",
            "description_width": "",
            "_view_module": "@jupyter-widgets/base",
            "_model_module_version": "1.5.0",
            "_view_count": null,
            "_view_module_version": "1.2.0",
            "_model_module": "@jupyter-widgets/controls"
          }
        },
        "5e7590324617471eb6788fa5ad5283e1": {
          "model_module": "@jupyter-widgets/base",
          "model_name": "LayoutModel",
          "state": {
            "_view_name": "LayoutView",
            "grid_template_rows": null,
            "right": null,
            "justify_content": null,
            "_view_module": "@jupyter-widgets/base",
            "overflow": null,
            "_model_module_version": "1.2.0",
            "_view_count": null,
            "flex_flow": null,
            "width": null,
            "min_width": null,
            "border": null,
            "align_items": null,
            "bottom": null,
            "_model_module": "@jupyter-widgets/base",
            "top": null,
            "grid_column": null,
            "overflow_y": null,
            "overflow_x": null,
            "grid_auto_flow": null,
            "grid_area": null,
            "grid_template_columns": null,
            "flex": null,
            "_model_name": "LayoutModel",
            "justify_items": null,
            "grid_row": null,
            "max_height": null,
            "align_content": null,
            "visibility": null,
            "align_self": null,
            "height": null,
            "min_height": null,
            "padding": null,
            "grid_auto_rows": null,
            "grid_gap": null,
            "max_width": null,
            "order": null,
            "_view_module_version": "1.2.0",
            "grid_template_areas": null,
            "object_position": null,
            "object_fit": null,
            "grid_auto_columns": null,
            "margin": null,
            "display": null,
            "left": null
          }
        },
        "f179c1e64dd44ccbb7540e82fcc013a6": {
          "model_module": "@jupyter-widgets/base",
          "model_name": "LayoutModel",
          "state": {
            "_view_name": "LayoutView",
            "grid_template_rows": null,
            "right": null,
            "justify_content": null,
            "_view_module": "@jupyter-widgets/base",
            "overflow": null,
            "_model_module_version": "1.2.0",
            "_view_count": null,
            "flex_flow": null,
            "width": null,
            "min_width": null,
            "border": null,
            "align_items": null,
            "bottom": null,
            "_model_module": "@jupyter-widgets/base",
            "top": null,
            "grid_column": null,
            "overflow_y": null,
            "overflow_x": null,
            "grid_auto_flow": null,
            "grid_area": null,
            "grid_template_columns": null,
            "flex": null,
            "_model_name": "LayoutModel",
            "justify_items": null,
            "grid_row": null,
            "max_height": null,
            "align_content": null,
            "visibility": null,
            "align_self": null,
            "height": null,
            "min_height": null,
            "padding": null,
            "grid_auto_rows": null,
            "grid_gap": null,
            "max_width": null,
            "order": null,
            "_view_module_version": "1.2.0",
            "grid_template_areas": null,
            "object_position": null,
            "object_fit": null,
            "grid_auto_columns": null,
            "margin": null,
            "display": null,
            "left": null
          }
        }
      }
    }
  },
  "cells": [
    {
      "cell_type": "code",
      "metadata": {
        "colab": {
          "base_uri": "https://localhost:8080/"
        },
        "id": "jjSffLRxpTrm",
        "outputId": "5a66184b-acc2-4106-ea46-caa5416f0ac5"
      },
      "source": [
        "# #hide\r\n",
        "# !pip install -Uqq fastbook\r\n",
        "# import fastbook\r\n",
        "# fastbook.setup_book()"
      ],
      "execution_count": 1,
      "outputs": [
        {
          "output_type": "stream",
          "text": [
            "\u001b[K     |████████████████████████████████| 727kB 12.1MB/s \n",
            "\u001b[K     |████████████████████████████████| 51kB 3.2MB/s \n",
            "\u001b[K     |████████████████████████████████| 194kB 17.9MB/s \n",
            "\u001b[K     |████████████████████████████████| 1.2MB 39.1MB/s \n",
            "\u001b[K     |████████████████████████████████| 51kB 3.7MB/s \n",
            "\u001b[K     |████████████████████████████████| 61kB 4.6MB/s \n",
            "\u001b[?25hMounted at /content/gdrive\n"
          ],
          "name": "stdout"
        }
      ]
    },
    {
      "cell_type": "code",
      "metadata": {
        "id": "O4qyEzzDs97-"
      },
      "source": [
        "from fastai.vision.all import *\r\n",
        "from fastai.vision.widgets import *"
      ],
      "execution_count": 2,
      "outputs": []
    },
    {
      "cell_type": "code",
      "metadata": {
        "id": "ERfrWEnPs-PL"
      },
      "source": [
        "path = Path()\r\n",
        "learn_inf = load_learner(path/'export.pkl', cpu = True)\r\n",
        "btn_upload = widgets.FileUpload()\r\n",
        "out_pl = widgets.Output()\r\n",
        "lbl_pred = widgets.Label()"
      ],
      "execution_count": 5,
      "outputs": []
    },
    {
      "cell_type": "code",
      "metadata": {
        "id": "ulIEPOAts-U5"
      },
      "source": [
        "def on_click(change):\r\n",
        "    img = PILImage.create(btn_upload.data[-1])\r\n",
        "    out_pl.clear_output()\r\n",
        "    with out_pl: display(img.to_thumb(128,128))\r\n",
        "    pred,pred_idx,probs = learn_inf.predict(img)\r\n",
        "    lbl_pred.value = f'Prediction: {pred}; Probability: {probs[pred_idx]:.04f}'"
      ],
      "execution_count": 12,
      "outputs": []
    },
    {
      "cell_type": "code",
      "metadata": {
        "id": "tVRYCAgJs-YM"
      },
      "source": [
        "btn_upload.observe(on_click, names = ['data'])"
      ],
      "execution_count": 7,
      "outputs": []
    },
    {
      "cell_type": "code",
      "metadata": {
        "colab": {
          "base_uri": "https://localhost:8080/",
          "height": 166,
          "referenced_widgets": [
            "2c3b0f13f748413dab6591031c3f727a",
            "66bd86ec905f40eeb83cf0a2bfb9313c",
            "b6ad9cc3ffeb49d3862cd48bd10d8c52",
            "df95c286eccb418798057206dd26e781",
            "b41108dac2f24de394e913cf997f0b46",
            "d7fc5fb7b76d407bb455b790c14ae027",
            "4b7bab21257e4c22b8d0fe5ee9209c0a",
            "05bc28b1cb97474bb64f579f39a46834",
            "1de979bdc1274de0b2e88cab0f502401",
            "c64112c0cc474b15b2c61efc8b9c019f",
            "82693399604346cfacb71994a33e13d2",
            "5e7590324617471eb6788fa5ad5283e1",
            "f179c1e64dd44ccbb7540e82fcc013a6"
          ]
        },
        "id": "Icqm-sVMs-bZ",
        "outputId": "51a3ba7b-2585-439b-d8a8-b97489c1224b"
      },
      "source": [
        "display(VBox([widgets.Label('Select your bear!'), btn_upload, out_pl, lbl_pred]))"
      ],
      "execution_count": 9,
      "outputs": [
        {
          "output_type": "display_data",
          "data": {
            "application/vnd.jupyter.widget-view+json": {
              "model_id": "2c3b0f13f748413dab6591031c3f727a",
              "version_minor": 0,
              "version_major": 2
            },
            "text/plain": [
              "VBox(children=(Label(value='Select your bear!'), FileUpload(value={}, description='Upload'), Output(), Label(v…"
            ]
          },
          "metadata": {
            "tags": []
          }
        },
        {
          "output_type": "display_data",
          "data": {
            "text/html": [
              ""
            ],
            "text/plain": [
              "<IPython.core.display.HTML object>"
            ]
          },
          "metadata": {
            "tags": []
          }
        },
        {
          "output_type": "display_data",
          "data": {
            "text/html": [
              ""
            ],
            "text/plain": [
              "<IPython.core.display.HTML object>"
            ]
          },
          "metadata": {
            "tags": []
          }
        },
        {
          "output_type": "display_data",
          "data": {
            "text/html": [
              ""
            ],
            "text/plain": [
              "<IPython.core.display.HTML object>"
            ]
          },
          "metadata": {
            "tags": []
          }
        }
      ]
    }
  ]
}